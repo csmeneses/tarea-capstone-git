{
 "cells": [
  {
   "cell_type": "code",
   "execution_count": 1,
   "metadata": {},
   "outputs": [],
   "source": [
    "# Importing required libraries\n",
    "\n",
    "import pandas as pd\n",
    "from pandas.io.json import json_normalize\n",
    "import warnings\n",
    "warnings.filterwarnings(\"ignore\")"
   ]
  },
  {
   "cell_type": "code",
   "execution_count": 2,
   "metadata": {},
   "outputs": [],
   "source": [
    "%run \"functions/top_users.ipynb\""
   ]
  },
  {
   "cell_type": "code",
   "execution_count": null,
   "metadata": {},
   "outputs": [],
   "source": [
    "# Read JSON file containing tweets data and removce tweets not in English\n",
    "\n",
    "raw_tweets = pd.read_json(r'farmers-protest-tweets-2021-03-5.json', lines=True)\n",
    "raw_tweets = raw_tweets[raw_tweets['lang']=='en']\n",
    "print(\"Shape: \", raw_tweets.shape)\n",
    "raw_tweets.head(5)"
   ]
  },
  {
   "cell_type": "code",
   "execution_count": null,
   "metadata": {},
   "outputs": [],
   "source": [
    "# Normalize 'user' field\n",
    "\n",
    "users = json_normalize(raw_tweets['user'])\n",
    "users.drop(['description', 'linkTcourl'], axis=1, inplace=True)\n",
    "users.rename(columns={'id':'userId', 'url':'profileUrl'}, inplace=True)\n",
    "users.head(5)"
   ]
  },
  {
   "cell_type": "code",
   "execution_count": null,
   "metadata": {},
   "outputs": [],
   "source": [
    "# Create DataFrame and remove duplicates\n",
    "\n",
    "users = pd.DataFrame(users)\n",
    "users.drop_duplicates(subset=['userId'], inplace=True)\n",
    "print(\"Shape: \", users.shape)\n",
    "users.head(5)"
   ]
  },
  {
   "cell_type": "code",
   "execution_count": null,
   "metadata": {},
   "outputs": [],
   "source": [
    "# Transform 'raw_tweets' DataFrame\n",
    "\n",
    "# Add column for 'userId'\n",
    "user_id = []\n",
    "for user in raw_tweets['user']:\n",
    "    uid = user['id']\n",
    "    user_id.append(uid)\n",
    "raw_tweets['userId'] = user_id\n",
    "\n",
    "# Remove less important columns\n",
    "cols = ['url', 'date', 'renderedContent', 'id', 'userId', 'replyCount', 'retweetCount', 'likeCount', 'quoteCount', 'source', 'media', 'retweetedTweet', 'quotedTweet', 'mentionedUsers']\n",
    "tweets = raw_tweets[cols]\n",
    "tweets.rename(columns={'id':'tweetId', 'url':'tweetUrl'}, inplace=True)\n",
    "tweets.head(5)"
   ]
  },
  {
   "cell_type": "code",
   "execution_count": null,
   "metadata": {},
   "outputs": [],
   "source": [
    "# Convert to DataFrame, remove duplicates and keep only English tweets\n",
    "\n",
    "tweets = pd.DataFrame(tweets)\n",
    "tweets.drop_duplicates(subset=['tweetId'], inplace=True)\n",
    "print(\"Shape: \", tweets.shape)\n",
    "tweets.head(5)"
   ]
  },
  {
   "cell_type": "markdown",
   "metadata": {},
   "source": [
    "En este punto, se tienen los dataframes `tweets` y `users`, los que se utilizarán como input para las funciones."
   ]
  },
  {
   "cell_type": "markdown",
   "metadata": {},
   "source": [
    "### Top 10 retweeting users"
   ]
  },
  {
   "cell_type": "code",
   "execution_count": null,
   "metadata": {},
   "outputs": [],
   "source": [
    "top_10_users(tweets)"
   ]
  }
 ],
 "metadata": {
  "interpreter": {
   "hash": "378528cd9a159c2ecbf2f9ca4ab27b7a5c365cac28f9c05329aec0d0c27e9665"
  },
  "kernelspec": {
   "display_name": "Python 3.6.8 64-bit",
   "language": "python",
   "name": "python3"
  },
  "language_info": {
   "codemirror_mode": {
    "name": "ipython",
    "version": 3
   },
   "file_extension": ".py",
   "mimetype": "text/x-python",
   "name": "python",
   "nbconvert_exporter": "python",
   "pygments_lexer": "ipython3",
   "version": "3.6.8"
  },
  "orig_nbformat": 4
 },
 "nbformat": 4,
 "nbformat_minor": 2
}
