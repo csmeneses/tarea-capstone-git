{
 "cells": [
  {
   "cell_type": "code",
   "execution_count": null,
   "metadata": {},
   "outputs": [],
   "source": [
    "def top_10_hashtags(tweets):\n",
    "    hashtags = tweets[\"renderedContent\"].str.extractall(r\"(#\\S+)\")\n",
    "    freqs = hashtags[0].value_counts()\n",
    "    return freqs[:10]"
   ]
  }
 ],
 "metadata": {
  "language_info": {
   "name": "python"
  },
  "orig_nbformat": 4
 },
 "nbformat": 4,
 "nbformat_minor": 2
}
