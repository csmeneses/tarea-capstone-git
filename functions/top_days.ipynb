{
 "cells": [
  {
   "cell_type": "code",
   "execution_count": 1,
   "metadata": {},
   "outputs": [],
   "source": [
    "def top_10_days(tweets):\n",
    "    return tweets.groupby(by=\"date\").count().sort_values(by=\"tweetId\", ascending=False).index.values[:10]"
   ]
  }
 ],
 "metadata": {
  "interpreter": {
   "hash": "378528cd9a159c2ecbf2f9ca4ab27b7a5c365cac28f9c05329aec0d0c27e9665"
  },
  "kernelspec": {
   "display_name": "Python 3.6.8 64-bit",
   "language": "python",
   "name": "python3"
  },
  "language_info": {
   "codemirror_mode": {
    "name": "ipython",
    "version": 3
   },
   "file_extension": ".py",
   "mimetype": "text/x-python",
   "name": "python",
   "nbconvert_exporter": "python",
   "pygments_lexer": "ipython3",
   "version": "3.6.8"
  },
  "orig_nbformat": 4
 },
 "nbformat": 4,
 "nbformat_minor": 2
}
