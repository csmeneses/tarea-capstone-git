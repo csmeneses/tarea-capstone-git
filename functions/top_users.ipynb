{
 "cells": [
  {
   "cell_type": "code",
   "execution_count": null,
   "metadata": {},
   "outputs": [],
   "source": [
    "def top_10_users(tweets, users):\n",
    "    tweets_users = pd.merge(tweets, users, how=\"inner\", on=\"userId\")\n",
    "    return list(tweets_users.groupby(by=\"username\").count().sort_values(by=\"tweetId\", ascending=False).index.values[:10])"
   ]
  }
 ],
 "metadata": {
  "interpreter": {
   "hash": "378528cd9a159c2ecbf2f9ca4ab27b7a5c365cac28f9c05329aec0d0c27e9665"
  },
  "kernelspec": {
   "display_name": "Python 3.6.8 64-bit",
   "language": "python",
   "name": "python3"
  },
  "language_info": {
   "name": "python",
   "version": "3.6.8"
  },
  "orig_nbformat": 4
 },
 "nbformat": 4,
 "nbformat_minor": 2
}
